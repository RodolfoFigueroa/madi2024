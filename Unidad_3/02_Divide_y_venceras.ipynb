{
 "cells": [
  {
   "cell_type": "markdown",
   "metadata": {
    "colab_type": "text",
    "id": "view-in-github"
   },
   "source": [
    "<a href=\"https://colab.research.google.com/github/RodolfoFigueroa/madi2024/blob/main/Unidad_3/02_Divide_y_venceras.ipynb\" target=\"_parent\"><img src=\"https://colab.research.google.com/assets/colab-badge.svg\" alt=\"Open In Colab\"/></a>"
   ]
  },
  {
   "cell_type": "code",
   "execution_count": 9,
   "metadata": {},
   "outputs": [],
   "source": [
    "import numpy as np"
   ]
  },
  {
   "cell_type": "markdown",
   "metadata": {},
   "source": [
    "# Ejemplos"
   ]
  },
  {
   "cell_type": "markdown",
   "metadata": {},
   "source": [
    "## Multiplicación\n",
    "\n",
    "Mientras estudiaba los números complejos, Gauss se dio cuenta de que el producto de dos números, definido como:\n",
    "\n",
    "$$\n",
    "(a+bi)(c+di) = ac - bd + (bc+ad)i\n",
    "$$\n",
    "\n",
    "Podía calcularse utilizando 3 multiplicaciones, en vez de las 4 aparentes. Esto se debe a que:\n",
    "\n",
    "$$\n",
    "bc+ad = (a+b)(c+d)-ac-bd\n",
    "$$\n",
    "\n",
    "---\n",
    "\n",
    "Para ver para qué nos sirve esto, consideremos a dos enteros $x$ y $y$, ambos representados con $n$ bits. Por conveniencia, asumimos que $n$ es una potencia de 2, aunque el procedimiento para el caso general es muy similar.\n",
    "\n",
    "Como primer paso, partimos a $x$ a la mitad. Definimos a las dos partes resultantes como $x_L$ (izquierda) y $x_R$ (derecha). Notemos que podemos recuperar a $x$ de estas dos partes de la siguiente manera:\n",
    "\n",
    "$$\n",
    "x = x_L \\oplus x_R\n",
    "$$\n",
    "\n",
    "Donde $\\oplus$ es el operador de concatenación, que \"pega\" a sus dos operandos. Otra manera de obtener $x$ usando solo operaciones aritméticas es de la siguiente forma:\n",
    "\n",
    "$$\n",
    "x = 2^{n/2}\\cdot x_L+x_R\n",
    "$$\n",
    "\n",
    "Por ejemplo, si $x=10110110$, entonces $x_L=1011$ y $x_R=0110$, y:\n",
    "\n",
    "$$\n",
    "x=1011\\cdot 2^4 + 0110\n",
    "$$\n",
    "\n",
    "Hacemos lo mismo para $y$, partiéndola en $y_L$ y $y_R$. Con esto, el producto de $x$ y $y$ puede escribirse como:\n",
    "\n",
    "$$\n",
    "x\\cdot y = \\left(2^{n/2}\\cdot x_L+x_R\\right)\\left(2^{n/2}\\cdot y_L+y_R\\right)\n",
    "$$\n",
    "\n",
    "Esto es equivalente a:\n",
    "\n",
    "$$\n",
    "x\\cdot y = 2^n x_Ly_L + 2^{n/2}(x_Ly_R+x_Ry_L) + x_Ry_R\n",
    "$$\n",
    "\n",
    "Las sumas tienen una complejidad $O(n)$. Por otro lado, las multiplicaciones por potencias de 2 pueden realizarse utilizando *bit shifts*, los cuales igual tienen complejidad $O(n)$. Entonces, las partes importantes son los 4 productos:\n",
    "\n",
    "$$\n",
    "x_Ly_L,\\quad x_Ly_R,\\quad x_Ry_L,\\quad x_Ry_R\n",
    "$$\n",
    "\n",
    "Cada uno de estos números ($x_L$, $x_R$, etc.), tiene un tamaño ${n}/{2}$. Por lo tanto, si resolvemos esta multiplicación con el mismo algoritmo, obtenemos la siguiente relación de recurrencia:\n",
    "\n",
    "$$\n",
    "T(n) = 4T\\left(\\frac{n}{2}\\right) + O(n)\n",
    "$$\n",
    "\n",
    "Aplicando el teorema maestro, llegamos a que $T(n)=O\\left(n^2\\right)$, que es lo mismo que el algoritmo de multiplicación de primaria.\n",
    "\n",
    "---\n",
    "\n",
    "Sin embargo, podemos aplicar el truco de Gauss de una manera similar a la del caso complejo, notando que:\n",
    "\n",
    "$$\n",
    "\\begin{align}\n",
    "    x_Ly_R + x_Ry_L = (x_L+x_R)(y_L+y_R) - x_Ly_L - x_Ry_R\n",
    "\\end{align}\n",
    "$$\n",
    "\n",
    "Entonces, pasamos de 4 multiplicaciones a 3, lo cual significa que la relación de recurrencia es ahora:\n",
    "\n",
    "$$\n",
    "T(n) = 3T\\left(\\frac{n}{2}\\right) + O(n)\n",
    "$$\n",
    "\n",
    "Usando el teorema maestro, llegamos a que la complejidad es:\n",
    "\n",
    "$$\n",
    "T(n) = O\\left(n^{\\log_23}\\right) \\approx O\\left(n^{1.59}\\right)\n",
    "$$\n",
    "\n",
    "Una clara mejoría de nuestro primer intento."
   ]
  },
  {
   "cell_type": "markdown",
   "metadata": {},
   "source": [
    "## Mediana\n",
    "\n",
    "Dada una lista de $n$ números $L$, queremos calcular su mediana. La solución más obvia es ordenarla (que toma tiempo $O(n\\log n)$), y luego encontrar el elemento de en medio (que toma tiempo $O(n)$). Sin embargo, hay una mejor solución.\n",
    "\n",
    "Irónicamente, para resolver esto, sirver considerar un problema más general: dada una lista de números, encontrar el $k$-ésimo elemento más pequeño. Algunos casos particulares son:\n",
    "\n",
    "* $k=1$, en cuyo caso el resultado es el mínimo.\n",
    "* $k=n$, el máximo.\n",
    "* $k=\\left\\lceil\\frac{n}{2}\\right\\rceil$, la mediana.\n",
    "\n",
    "Ahora, supongamos que para un número arbitrario $v$, partimos la lista en tres sublistas:\n",
    "\n",
    "* $L_L$, los números más pequeños que $v$.\n",
    "* $L_v$, los números iguales a $v$.\n",
    "* $L_R$, los números mayores a $v$.\n",
    "\n",
    "Por ejemplo, si tenemos $v=5$ y la lista:\n",
    "\n",
    "$$\n",
    "L = [2, 36, 5, 21, 8, 13, 11, 20, 5, 4, 1]\n",
    "$$\n",
    "\n",
    "Las tres sublistas resultantes son:\n",
    "\n",
    "$$\n",
    "L_L = [2, 4, 1],\\qquad L_v = [5, 5], \\qquad L_R = [36, 21, 8, 13, 11, 20]\n",
    "$$\n",
    "\n",
    "Ahora, supongamos que queremos el octavo elemento más pequeño. Con esta información, sabemos que tenemos que tomar el **tercer** elemento de la lista $L_R$, ya que $|L_L| + |L_v| = 5$. En otras palabras, si tenemos una función $f(L, k)$ que produce el resultado deseado, tenemos que:\n",
    "\n",
    "$$\n",
    "f(L, 8) = f(L_R, 3)\n",
    "$$\n",
    "\n",
    "En general, la relación de recurrencia para un $k$ arbitrario es:\n",
    "\n",
    "$$\n",
    "f = \n",
    "\\begin{cases}\n",
    "f(L_L, k) & \\text{si}\\ k\\leq |L_L| \\\\\n",
    "v & \\text{si}\\ |L_L| < k \\leq |L_L| + |L_v| \\\\\n",
    "f(L_R, k - |L_L| - |L_v|) & \\text{si}\\ k > |L_L| + |L_v|\n",
    "\\end{cases}\n",
    "$$\n",
    "\n",
    "Las sublistas $L_L, L_v, L_R$ pueden calcularse en tiempo lineal. Sin embargo, falta decidir el valor de $v$. Idealmente, nos gustaría que fuese tal que:\n",
    "\n",
    "$$\n",
    "|L_L| \\approx |L_r| \\approx \\frac{|L|}{2}\n",
    "$$\n",
    "\n",
    "Si esto pasase, entonces el tiempo de ejecución cumpliría la relación:\n",
    "\n",
    "$$\n",
    "T(n) = T\\left(\\frac{n}{2}\\right) + O(n)\n",
    "$$\n",
    "\n",
    "Sin embargo, esto requiere que $v$ sea la mediana, i.e., nuestro objetivo. Entonces, seguimos una alternativa sencilla: escogemos $v$ *aleatoriamente*.\n",
    "\n",
    "---\n",
    "\n",
    "Los casos extremos de esta estrategia son:\n",
    "\n",
    "**Peor caso** \n",
    "\n",
    "Escogemos el número más grande (o el más pequeño) en cada iteración. Entonces nuestra lista solo se encoge por un elemento cada vez. Por lo tanto, el número de iteraciones es del orden:\n",
    "\n",
    "$$\n",
    "n + (n-1) + (n-2) + \\cdots 1 \\sim O(n^2)\n",
    "$$\n",
    "\n",
    "**Mejor caso** \n",
    "\n",
    "Escogemos la mediana en cada iteración. Por lo tanto, el número de iteraciones es del orden $O(n)$.\n",
    "\n",
    "Sin embargo, es muy poco probable que cualquiera de estos dos casos ocurra. \n",
    "\n",
    "---\n",
    "\n",
    "En general, decimos que una elección de $v$ es *buena* si cae entre los percentiles 25 y 75 de la lista. Si cumple esta propiedad, entonces $L_L$ y $L_R$ cumplen:\n",
    "\n",
    "$$\n",
    "|L_L| \\leq \\frac{3}{4}|L|,\\qquad |L_R|\\leq \\frac{3}{4}|L|\n",
    "$$\n",
    "\n",
    "Dado que 50% de los elementos caen dentro de estos percentiles, ¿cuántas veces, en promedio, tenemos que muestrear $v$ antes de obtener un valor *bueno*? \n",
    "\n",
    "Esto es equivalente a preguntar cuántas veces tenemos que tirar una moneda antes de que salga águila. Si en la primera tirada es águila, ya acabamos. Si en la primera25 y 75 tirada es sol, tenemos que repetir. Si $x$ es el número de tiros, de esto se sigue la ecuación:\n",
    "\n",
    "$$\n",
    "x = \\frac{1}{2}\\cdot 1 + \\frac{1}{2}(1+x)\n",
    "$$\n",
    "\n",
    "Resolviendo, obtenemos $x=2$. \n",
    "\n",
    "---\n",
    "\n",
    "Por lo tanto, regresando a nuestro problema original, esto nos dice que después de dos iteraciones **en promedio**, la lista se habrá encogido a $3/4$ de su tamaño original. Entonces, si $T(n)$ es el tiempo de ejecución **promedio**, tenemos la relación de recurrencia:\n",
    "\n",
    "$$\n",
    "T(n) = T\\left(\\frac{3n}{4}\\right) + O(n)\n",
    "$$\n",
    "\n",
    "Usando el teorema maestro, se sigue que la complejidad **promedio** es $O(n)$.\n",
    "\n",
    "---\n",
    "\n",
    "Finalmente, podemos escribir este algoritmo:"
   ]
  },
  {
   "cell_type": "code",
   "execution_count": 8,
   "metadata": {},
   "outputs": [],
   "source": [
    "def k_smallest(L, k):\n",
    "    v = np.random.choice(L)\n",
    "    LL, Lv, LR = [], [], []\n",
    "    for x in L:\n",
    "        if x < v:\n",
    "            LL.append(x)\n",
    "        elif x == v:\n",
    "            Lv.append(x)\n",
    "        else:\n",
    "            LR.append(x)\n",
    "\n",
    "    if k <= len(LL):\n",
    "        return k_smallest(LL, k)\n",
    "    elif len(LL) < k <= len(LL) + len(Lv):\n",
    "        return v\n",
    "    else:\n",
    "        return k_smallest(LR, k - len(LL) - len(Lv))"
   ]
  },
  {
   "cell_type": "code",
   "execution_count": 14,
   "metadata": {},
   "outputs": [
    {
     "name": "stdout",
     "output_type": "stream",
     "text": [
      "[6, 1, 14, 5, 7, 20, 13, 19, 10, 6, 11, 15, 3, 0, 13]\n"
     ]
    },
    {
     "data": {
      "text/plain": [
       "7"
      ]
     },
     "execution_count": 14,
     "metadata": {},
     "output_type": "execute_result"
    }
   ],
   "source": [
    "L = np.random.randint(0, 21, 15)\n",
    "print(list(L))\n",
    "k_smallest(L, len(L)//2)"
   ]
  },
  {
   "cell_type": "markdown",
   "metadata": {},
   "source": [
    "# Ejercicios"
   ]
  },
  {
   "cell_type": "markdown",
   "metadata": {},
   "source": [
    "## Ejercicio 1\n",
    "\n",
    "Dado un arreglo $L$, para índices $i, j$ con $i<j$, decimos que $L_i$ y $L_j$ forman una *inversión* si $L_i>L_j$. Por ejemplo, el arreglo:\n",
    "\n",
    "$$\n",
    "L = [2, 4, 1, 3, 5]\n",
    "$$\n",
    "\n",
    "Tiene tres inversiones: $(2,1),(4,1),(4,3)$.\n",
    "\n",
    "Diseña un algoritmo de divide y vencerás que cuente el número de inversiones en un arreglo. Este debe de correr en tiempo $O(n\\log n)$."
   ]
  },
  {
   "cell_type": "markdown",
   "metadata": {},
   "source": [
    "*Aquí va la explicación de tu algoritmo, con la demostración de que corre en el tiempo pedido*"
   ]
  },
  {
   "cell_type": "code",
   "execution_count": 2,
   "metadata": {},
   "outputs": [],
   "source": [
    "# Aquí va tu código\n",
    "\n",
    "def count_inversions(L):\n",
    "    pass"
   ]
  },
  {
   "cell_type": "markdown",
   "metadata": {},
   "source": [
    "## Ejercicio 2\n",
    "\n",
    "Diseña un algoritmo de divide y vencerás que invierta un arreglo. Por ejemplo, $[1,2,3,4]$ se vuelve $[4,3,2,1]$."
   ]
  },
  {
   "cell_type": "markdown",
   "metadata": {},
   "source": [
    "*Aquí va la explicación de tu algoritmo, junto con el análisis de complejidad*"
   ]
  },
  {
   "cell_type": "code",
   "execution_count": 5,
   "metadata": {},
   "outputs": [],
   "source": [
    "# Aquí va tu código\n",
    "\n",
    "def reverse_array(A):\n",
    "    pass"
   ]
  },
  {
   "cell_type": "code",
   "execution_count": null,
   "metadata": {},
   "outputs": [],
   "source": []
  }
 ],
 "metadata": {
  "colab": {
   "collapsed_sections": [],
   "include_colab_link": true,
   "name": "Divide y vencerás con estructuras de datos.ipynb",
   "provenance": []
  },
  "kernelspec": {
   "display_name": "Python 3",
   "language": "python",
   "name": "python3"
  },
  "language_info": {
   "codemirror_mode": {
    "name": "ipython",
    "version": 3
   },
   "file_extension": ".py",
   "mimetype": "text/x-python",
   "name": "python",
   "nbconvert_exporter": "python",
   "pygments_lexer": "ipython3",
   "version": "3.9.12"
  }
 },
 "nbformat": 4,
 "nbformat_minor": 4
}
