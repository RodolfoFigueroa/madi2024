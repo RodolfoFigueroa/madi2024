{
 "cells": [
  {
   "cell_type": "markdown",
   "metadata": {
    "colab_type": "text",
    "id": "view-in-github"
   },
   "source": [
    "<a href=\"https://colab.research.google.com/github/RodolfoFigueroa/madi2024/blob/main/Unidad_3/03_Backtracking.ipynb\" target=\"_parent\"><img src=\"https://colab.research.google.com/assets/colab-badge.svg\" alt=\"Open In Colab\"/></a>"
   ]
  },
  {
   "cell_type": "code",
   "execution_count": 1,
   "metadata": {},
   "outputs": [],
   "source": [
    "import matplotlib.pyplot as plt\n",
    "import numpy as np"
   ]
  },
  {
   "cell_type": "markdown",
   "metadata": {
    "id": "zxKs5VLdgNbv"
   },
   "source": [
    "En esta práctica veremos varios ejemplos de exploraciones exhaustivas, es decir, ir encontrando en el espacio de búsqueda elementos que cumplen ciertas características deseadas, una forma común de hacer esto es utilizando la técnica de backtracking (o vuelta hacia atrás), en donde se van buscando elementos con determinadas características en cada paso."
   ]
  },
  {
   "cell_type": "markdown",
   "metadata": {
    "id": "CkeUcRxK2RqK"
   },
   "source": [
    "# Ejemplos\n",
    "\n",
    "## Cambio\n",
    "Recordando un poco el ejemplo que vimos anteriormente sobre monedas y sus denominaciones, consideremos una lista $L$ de denominaciones posibles para nuestras monedas. Nuestro problema ahora será determinar de cuántas formas se puede formar el número $n$ utilizando dichas denominaciones (suponiendo que tenemos tantas monedas de cada denominación como sea necesario).\n",
    "\n",
    "Dada la lista $L$, podemos hacer backtracking del siguiente modo:\n",
    "\n",
    "* Iteramos sobre los elementos de la lista, y definimos una función `count(i, k)` que nos dice de cuántas formas podemos sumar a $k$ con denominaciones $\\{L_i, L_{i+1}, \\ldots\\}$.\n",
    "* Podemos calcular el valor de `count(i, k)` de manera recursiva:\n",
    "    * Si $L_i > k$, esto nos dice que la moneda actual (`L[i]`) es más grande que el dinero que queremos partir (`k`), así que nos movemos a la siguiente, i.e. `count(i,k) = count(i+1, k)`.\n",
    "    * Si $L_i \\leq k$, entonces podemos cambiar el dinero con la moneda actual. Entonces, consideramos dos casos: \n",
    "        * Sí lo cambiamos y nos quedamos en la misma moneda, `count(i, k-L[i])`\n",
    "        * No lo hacemos y simplemente pasamos a la siguiente moneda, `count(i+1, k)`\n",
    "* Los casos base a considerar son:\n",
    "    * `count(i, 0)`. Queremos cambiar 0 pesos, lo cual se puede hacer de una sola manera: con 0 monedas. Por lo tanto, `count(i, 0) = 1`.\n",
    "    * `count(i, k)`, con `i` mayor o igual al largo de $L$. En este caso, no tenemos monedas con las cuales cambiar el dinero, por lo cual no hay maneras de hacerlo. Entonces, `count(i, k) = 0`.\n",
    "\n",
    "Veamos una implementación de este algoritmo:"
   ]
  },
  {
   "cell_type": "code",
   "execution_count": 6,
   "metadata": {
    "colab": {
     "base_uri": "https://localhost:8080/"
    },
    "id": "JeIdMxC74fJb",
    "outputId": "38db70e0-5539-42e1-fdaf-b149dc5c28d5"
   },
   "outputs": [
    {
     "name": "stdout",
     "output_type": "stream",
     "text": [
      "1\n",
      "[[2, 13]]\n"
     ]
    }
   ],
   "source": [
    "combs = []\n",
    "\n",
    "def count(L, k, i=0, out=None):\n",
    "    if out is None:\n",
    "        out = []\n",
    "\n",
    "    if i >= len(L):\n",
    "        return 0\n",
    "    if k == 0:\n",
    "        combs.append(out)\n",
    "        return 1\n",
    "    if L[i] > k:\n",
    "        return count(L, k, i+1, out)\n",
    "    else:\n",
    "        temp = out.copy()\n",
    "        temp.append(L[i])\n",
    "        return count(L, k-L[i], i, temp) + count(L, k, i+1, out)\n",
    "\n",
    "L = [2, 8, 4, 6, 13]\n",
    "print(count(L, 15))\n",
    "print(combs)"
   ]
  },
  {
   "cell_type": "markdown",
   "metadata": {
    "id": "kDx74yIJg9mm"
   },
   "source": [
    "## Reinas\n",
    "\n",
    "Un famoso problema algorítmico es que dado un tablero de ajedrez (de $8 \\times 8$), se determine cuántas formas hay de colocar 8 reinas en el tablero de tal manera que no haya dos que se ataquen entre sí. Resolveremos el problema para un tablero de $n\\times n$ con $n$ reinas.\n",
    "\n",
    "Primero, representaremos el tablero como una lista $Q$ de tamaño $n$. La entrada $Q_i$ será un número $0\\leq j < n$ que nos dirá la columna en la cual se encuentra la reina de la $i$-ésima fila (de abajo hacia arriba). Por ejemplo, para el siguiente arreglo de reinas:\n",
    "\n",
    "![chess](chess.png)\n",
    "\n",
    "Su representación sería `[1, 3, 0, 2]`.\n",
    "\n",
    "---\n",
    "\n",
    "Antes de resolver el problema, definimos una función `is_legal` que, dada una lista $Q$ de reinas en la representación anterior, nos diga si podemos colocar una reina en la fila $i$ y la columna $j$. Se asume que dicha fila está vacía. \n",
    "\n",
    "Por conveniencia, denotamos a la reina que queremos colocar con $q'$, y a una reina arbitraria en $Q$ con $q$. Su fila y columna se representan con $q_r$ y $q_c$, respectivamente.\n",
    "\n",
    "* Si $i=0$ (i.e., es la primera fila), el resultado siempre es verdadero.\n",
    "* Si alguna reina está en la misma columna que la que queremos colocar, el resultado es falso. En otras palabras, si $q_c=q'_c$.\n",
    "* Si alguna reina está en las diagonales de la que queremos colocar, el resultado es falso. Podemos comprobar esto calculando la distancia horizontal y vertical entre las dos reinas; si ambas son iguales, significa que están en la diagonal. Es decir, si:\n",
    "\n",
    "$$\n",
    "|q'_r-q_r| = |q'_c-q_c|\n",
    "$$\n",
    "\n",
    "Sin embargo, nótese que como vamos colocando las reinas de abajo hacia arriba, la fila de la reina nueva siempre será mayor. Por lo tanto, podemos reescribir la igualdad anterior como:\n",
    "\n",
    "$$\n",
    "q'_r-q_r = |q'_c-q_c|\n",
    "$$\n",
    "\n",
    "Despejando, obtenemos:\n",
    "\n",
    "$$\n",
    "q'_r = |q'_c-q_c| + q_r\n",
    "$$"
   ]
  },
  {
   "cell_type": "code",
   "execution_count": 8,
   "metadata": {},
   "outputs": [],
   "source": [
    "def is_legal(Q, i, j):\n",
    "    if i == 0:\n",
    "        return True\n",
    "    for q_row, q_col in enumerate(Q):\n",
    "        if q_col is None: # Ya no hay más reinas\n",
    "            break\n",
    "        if q_col == j: # Misma columna\n",
    "            return False\n",
    "        if i == abs(j - q_col) + q_row: # Diagonal\n",
    "            return False\n",
    "    return True"
   ]
  },
  {
   "cell_type": "markdown",
   "metadata": {},
   "source": [
    "Con esto, podemos resolver el problema utilizando *backtracking*. Para esto, definimos una función `place_queens(Q, r)` que, dada una lista de reinas `Q`, coloque todas las reinas, empezando de la fila `r`. \n",
    "\n",
    "* Llamamos a esta función de manera recursiva en cada posición legal que encontremos.\n",
    "* Si en algún momento `r=n` (i.e., nos pasamos de la última fila) esto nos dice que ya logramos colocar todas las reinas. Por lo tanto, añadimos el arreglo `Q` a la lista de soluciones."
   ]
  },
  {
   "cell_type": "code",
   "execution_count": 9,
   "metadata": {},
   "outputs": [],
   "source": [
    "def place_queens(n, row=0, Q=None, sols=None):\n",
    "    if Q is None:\n",
    "        Q = [None] * n\n",
    "        \n",
    "    if sols is None:\n",
    "        sols = []\n",
    "        \n",
    "    if row == n:\n",
    "        sols.append(Q)\n",
    "        return\n",
    "    \n",
    "    for col in range(n):\n",
    "        if is_legal(Q, row, col):\n",
    "            Q[row] = col\n",
    "            place_queens(n, row+1, Q.copy(), sols)\n",
    "    return sols"
   ]
  },
  {
   "cell_type": "markdown",
   "metadata": {},
   "source": [
    "Lo intentamos con un tablero de $6\\times 6$:"
   ]
  },
  {
   "cell_type": "code",
   "execution_count": 20,
   "metadata": {},
   "outputs": [
    {
     "data": {
      "text/plain": [
       "4"
      ]
     },
     "execution_count": 20,
     "metadata": {},
     "output_type": "execute_result"
    }
   ],
   "source": [
    "queens = place_queens(6)\n",
    "len(queens)"
   ]
  },
  {
   "cell_type": "markdown",
   "metadata": {},
   "source": [
    "Como extra, definimos una función para graficar una solución:"
   ]
  },
  {
   "cell_type": "code",
   "execution_count": 22,
   "metadata": {},
   "outputs": [],
   "source": [
    "def plot_queens(Q, ax=None):\n",
    "    if ax is None:\n",
    "        _, ax = plt.subplots(figsize=(5, 5))\n",
    "    \n",
    "    ticks = list(range(len(Q)+1))\n",
    "    ax.axis(\"off\")\n",
    "    ax.axis(\"equal\")\n",
    "    ax.set_xlim((-0.2, len(Q)+0.2))\n",
    "    ax.set_ylim((-0.2, len(Q)+0.2))\n",
    "    \n",
    "    ax.vlines(ticks, 0, len(Q))\n",
    "    ax.hlines(ticks, 0, len(Q))\n",
    "    for q_row, q_col in enumerate(Q):\n",
    "        circ = plt.Circle((q_col+0.5, q_row+0.5), 0.2, color=\"k\")\n",
    "        ax.add_patch(circ)"
   ]
  },
  {
   "cell_type": "markdown",
   "metadata": {},
   "source": [
    "Graficando las soluciones:"
   ]
  },
  {
   "cell_type": "code",
   "execution_count": 24,
   "metadata": {},
   "outputs": [
    {
     "data": {
      "image/png": "[encoded data removed]",
      "text/plain": [
       "<Figure size 288x288 with 4 Axes>"
      ]
     },
     "metadata": {
      "needs_background": "light"
     },
     "output_type": "display_data"
    }
   ],
   "source": [
    "fig, axes = plt.subplots(2, 2, figsize=(4, 4))\n",
    "for i, sol in enumerate(queens):\n",
    "    ax = axes[i//2][i%2]\n",
    "    plot_queens(sol, ax)\n",
    "fig.tight_layout()"
   ]
  },
  {
   "cell_type": "markdown",
   "metadata": {},
   "source": [
    "## Suma de subconjuntos\n",
    "\n",
    "Dado un conjunto de números positivos $S$ y un número $x$, queremos determinar si existe un subconjunto $U\\subseteq S$ tal que la suma de los elementos de $U$ es $x$.\n",
    "\n",
    "Primero, notemos que hay dos casos base: si $x$ es cero, regresamos `verdadero` inmediatamente, ya que la suma del conjunto vacío lo cumple. Por otro lado, si $x<0$, o si $x\\neq 0$ pero $S$ es vacío, regresamos `falso`, ya que no existe solución.\n",
    "\n",
    "Por otro lado, para el caso general, consideremos un elemento $s\\in S$ arbitrario. Existe un subconjunto de $S$ que suma a $x$ si y solo si alguna de las dos proposiciones siguientes es verdadera:\n",
    "\n",
    "* Existe un subconjunto $U\\subseteq S$ que suma a $x$ y $s\\in U$.\n",
    "* Existe un subconjunto $U\\subseteq S$ que suma a $x$ y $s\\notin U$.\n",
    "\n",
    "El primer caso implica que debe de existir un subconjunto de $S$ que no incluya a $s$ y que sume a $x-s$. En el segundo caso, debe de existir un subconjunto de $S$ que no incluya a $s$, y que sume a $x$. Con esto, podemos reducir el problema a los siguientes dos subproblemas:\n",
    "\n",
    "* Subconjunto de $S\\setminus \\{s\\}$ que sume a $x-s$.\n",
    "* Subconjunto de $S\\setminus \\{s\\}$ que sume a $x$.\n",
    "\n",
    "Así, podemos definir el algoritmo recursivo:"
   ]
  },
  {
   "cell_type": "code",
   "execution_count": null,
   "metadata": {},
   "outputs": [],
   "source": [
    "[11, 2,3 , 5,4]"
   ]
  },
  {
   "cell_type": "code",
   "execution_count": 3,
   "metadata": {},
   "outputs": [],
   "source": [
    "def subset_sum(S, x):\n",
    "    if x == 0:\n",
    "        return True\n",
    "    elif len(S) == 0 and x > 0:\n",
    "        return False\n",
    "    elif x < 0:\n",
    "        return False\n",
    "    \n",
    "    S_minus = S.copy()\n",
    "    s = S_minus.pop()\n",
    "    b1 = subset_sum(S_minus, x-s)\n",
    "    b2 = subset_sum(S_minus, x)\n",
    "    \n",
    "    return b1 or b2"
   ]
  },
  {
   "cell_type": "markdown",
   "metadata": {},
   "source": [
    "Probándolo en un conjunto que sí sabemos que funciona:"
   ]
  },
  {
   "cell_type": "code",
   "execution_count": 5,
   "metadata": {},
   "outputs": [
    {
     "data": {
      "text/plain": [
       "True"
      ]
     },
     "execution_count": 5,
     "metadata": {},
     "output_type": "execute_result"
    }
   ],
   "source": [
    "S = [1,3,8,4]\n",
    "x = 15\n",
    "subset_sum(S, x)"
   ]
  },
  {
   "cell_type": "markdown",
   "metadata": {},
   "source": [
    "Y en uno que no funciona:"
   ]
  },
  {
   "cell_type": "code",
   "execution_count": 6,
   "metadata": {},
   "outputs": [
    {
     "data": {
      "text/plain": [
       "False"
      ]
     },
     "execution_count": 6,
     "metadata": {},
     "output_type": "execute_result"
    }
   ],
   "source": [
    "S = [1,3,8,4]\n",
    "x = 2\n",
    "subset_sum(S, x)"
   ]
  },
  {
   "cell_type": "markdown",
   "metadata": {},
   "source": [
    "Hacer copias de un arreglo es una operación costosa. Es más eficiente pasar el mismo arreglo cada vez, y simplemente cambiar los índices que consideramos:"
   ]
  },
  {
   "cell_type": "code",
   "execution_count": 83,
   "metadata": {},
   "outputs": [],
   "source": [
    "def subset_sum_index(S, x, r=None):\n",
    "    if r is None:\n",
    "        r = len(S)\n",
    "        \n",
    "    if x == 0:\n",
    "        return True\n",
    "    elif r == 0 or x < 0:\n",
    "        return False\n",
    "    \n",
    "    s = S[r-1]\n",
    "    b1 = subset_sum_index(S, x-s, r=r-1)\n",
    "    b2 = subset_sum_index(S, x, r=r-1)\n",
    "    \n",
    "    return b1 or b2"
   ]
  },
  {
   "cell_type": "code",
   "execution_count": 85,
   "metadata": {},
   "outputs": [
    {
     "data": {
      "text/plain": [
       "True"
      ]
     },
     "execution_count": 85,
     "metadata": {},
     "output_type": "execute_result"
    }
   ],
   "source": [
    "S = [1,3,8,4]\n",
    "x = 15\n",
    "subset_sum_index(S, x)"
   ]
  },
  {
   "cell_type": "markdown",
   "metadata": {},
   "source": [
    "Comparando los tiempos de ejcución para una lista de enteros grande:"
   ]
  },
  {
   "cell_type": "code",
   "execution_count": 102,
   "metadata": {},
   "outputs": [],
   "source": [
    "big_list = list(np.random.randint(0, 100, 300))"
   ]
  },
  {
   "cell_type": "code",
   "execution_count": 103,
   "metadata": {},
   "outputs": [
    {
     "name": "stdout",
     "output_type": "stream",
     "text": [
      "5.12 s ± 196 ms per loop (mean ± std. dev. of 7 runs, 1 loop each)\n"
     ]
    }
   ],
   "source": [
    "%%timeit\n",
    "subset_sum(big_list, x)"
   ]
  },
  {
   "cell_type": "code",
   "execution_count": 104,
   "metadata": {},
   "outputs": [
    {
     "name": "stdout",
     "output_type": "stream",
     "text": [
      "4.66 s ± 128 ms per loop (mean ± std. dev. of 7 runs, 1 loop each)\n"
     ]
    }
   ],
   "source": [
    "%%timeit\n",
    "subset_sum_index(big_list, x)"
   ]
  },
  {
   "cell_type": "markdown",
   "metadata": {
    "id": "6LT-dBXrMKSd"
   },
   "source": [
    "# Ejercicios\n",
    "\n",
    "## Ejercicio 1\n",
    "Dado un conjunto de palabras y un string, describe e implementa un algoritmo que permita contar cuántas oraciones diferentes puede formar la string en cuestión suponiendo que las únicas palabras que existen son las del conjunto inicial. Por ejemplo, si el conjunto de palabras es $\\{hola, ola, h\\}$, la string \"holah\" tiene dos posibles interpretaciones, una es \"hola h\", y la segunda \"h ola h\". Verifica tu algoritmo con: \n",
    "\n",
    "*   Conjunto de palabras `{a, as, tin, tinar, san, sana, atina, arce, ce, atinar}`, y la string \"atinarcesanas\".\n",
    "*   Conjunto de palabras `{i, like, ice, and, cream, icecream, man, go, mango}` y la string \"ilikeicecreamandmango\"."
   ]
  },
  {
   "cell_type": "markdown",
   "metadata": {
    "id": "XUxoUl52O785"
   },
   "source": [
    "*Ejercicio 1.* Aquí va la descripción de tu algoritmo."
   ]
  },
  {
   "cell_type": "code",
   "execution_count": 1,
   "metadata": {},
   "outputs": [],
   "source": [
    "# Aquí va tu código"
   ]
  },
  {
   "cell_type": "markdown",
   "metadata": {},
   "source": [
    "## Ejercicio 2\n",
    "Supón que ahora en el ejemplo 1 no se tienen tantas monedas como se deseen. Es decir, se tiene una lista $L$ de denominaciones posibles, y un entero $k$ que nos indica que tenemos exactamente $k$ monedas de cada denominación posible. Describe e implementa un algoritmo de backtracking que permita contar de cuántas formas se puede formar un entero $n$ con monedas de las denominaciones dadas, y usando a lo más $k$ monedas de cada denominación."
   ]
  },
  {
   "cell_type": "markdown",
   "metadata": {
    "id": "n4yGil8IPIo4"
   },
   "source": [
    "*Ejercicio 2.* Aquí va la descripción de tu algoritmo."
   ]
  },
  {
   "cell_type": "code",
   "execution_count": null,
   "metadata": {
    "id": "UwH4k3ToPH1J"
   },
   "outputs": [],
   "source": [
    "# Aquí va el código del algoritmo anterior"
   ]
  }
 ],
 "metadata": {
  "colab": {
   "collapsed_sections": [],
   "include_colab_link": true,
   "name": "Exploraciones exhaustivas.ipynb",
   "provenance": []
  },
  "kernelspec": {
   "display_name": "Python 3",
   "language": "python",
   "name": "python3"
  },
  "language_info": {
   "codemirror_mode": {
    "name": "ipython",
    "version": 3
   },
   "file_extension": ".py",
   "mimetype": "text/x-python",
   "name": "python",
   "nbconvert_exporter": "python",
   "pygments_lexer": "ipython3",
   "version": "3.9.12"
  }
 },
 "nbformat": 4,
 "nbformat_minor": 4
}
