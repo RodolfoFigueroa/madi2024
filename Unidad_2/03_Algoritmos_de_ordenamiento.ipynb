{
 "cells": [
  {
   "cell_type": "markdown",
   "metadata": {
    "colab_type": "text",
    "id": "view-in-github"
   },
   "source": [
    "<a href=\"https://colab.research.google.com/github/RodolfoFigueroa/madi2024/blob/main/Unidad_2/03_Algoritmos_de_ordenamiento.ipynb\" target=\"_parent\"><img src=\"https://colab.research.google.com/assets/colab-badge.svg\" alt=\"Open In Colab\"/></a>"
   ]
  },
  {
   "cell_type": "markdown",
   "metadata": {
    "id": "WBoB98uhCvF4"
   },
   "source": [
    "En esta libreta, veremos algunos algoritmos de ordenamiento. \n",
    "\n",
    "Primero, importamos las librerías necesarias:"
   ]
  },
  {
   "cell_type": "code",
   "execution_count": 1,
   "metadata": {
    "colab": {
     "base_uri": "https://localhost:8080/"
    },
    "id": "imjoH3kOEfbF",
    "outputId": "28e5516b-b98d-4cf9-e7a0-31c813582b65"
   },
   "outputs": [],
   "source": [
    "import numpy as np"
   ]
  },
  {
   "cell_type": "markdown",
   "metadata": {},
   "source": [
    "Luego, generamos una lista de ejemplo:"
   ]
  },
  {
   "cell_type": "code",
   "execution_count": 2,
   "metadata": {
    "colab": {
     "base_uri": "https://localhost:8080/"
    },
    "id": "imjoH3kOEfbF",
    "outputId": "28e5516b-b98d-4cf9-e7a0-31c813582b65"
   },
   "outputs": [
    {
     "name": "stdout",
     "output_type": "stream",
     "text": [
      "[4 0 4 0 9 5 8 8 5 8]\n"
     ]
    }
   ],
   "source": [
    "L = np.random.randint(0, 10, 10)\n",
    "print(L)"
   ]
  },
  {
   "cell_type": "markdown",
   "metadata": {},
   "source": [
    "# Algoritmos"
   ]
  },
  {
   "cell_type": "markdown",
   "metadata": {},
   "source": [
    "## Insertion sort\n",
    "\n",
    "Para cada elemento $X$ de la lista (excluyendo el primero), hacemos lo siguiente:\n",
    "\n",
    "1. Lo comparamos con el elemento a su izquierda, llámese $L$.\n",
    "2. Si $X < L$, intercambiamos $X$ y $L$.\n",
    "3. Repetimos hasta que $L < X$, o lleguemos al principio de la lista."
   ]
  },
  {
   "cell_type": "code",
   "execution_count": 5,
   "metadata": {},
   "outputs": [],
   "source": [
    "def insertion_sort(a):\n",
    "    for i in range(1, len(a)):\n",
    "        key = a[i]\n",
    "        j = i - 1\n",
    "        while j >= 0 and key < a[j]:\n",
    "            a[j + 1] = a[j]\n",
    "            j = j - 1\n",
    "        a[j + 1] = key"
   ]
  },
  {
   "cell_type": "code",
   "execution_count": 6,
   "metadata": {},
   "outputs": [
    {
     "name": "stdout",
     "output_type": "stream",
     "text": [
      "[0 0 4 4 5 5 8 8 8 9]\n"
     ]
    }
   ],
   "source": [
    "temp = L.copy()\n",
    "insertion_sort(temp)\n",
    "print(temp)"
   ]
  },
  {
   "cell_type": "markdown",
   "metadata": {},
   "source": [
    "* **Tiempo:** En el peor de los casos, el arreglo está ordenado al revés. Entonces, tendremos que comparar cada elemento con todos los elementos anteriores; en otras palabras, en la primera iteración haremos 1 comparación, luego 2, luego 3, y así hasta $n$. Por lo tanto, el número total de comparaciones es igual a la suma de los primeros $n$ naturales, que sabemos es de orden $O(n^2)$.\n",
    "* **Espacio:** Como solo maneja variables simples, la complejidad es $O(1)$."
   ]
  },
  {
   "cell_type": "markdown",
   "metadata": {},
   "source": [
    "## Bubble sort\n",
    "\n",
    "1. Recorremos el arreglo, comparando cada par de elementos.\n",
    "2. Si un par no está ordenado, los intercambiamos.\n",
    "3. Repetimos esto hasta llegar al final del arreglo.\n",
    "4. Si hicimos al menos un intercambio (i.e., la lista no estaba ordenada), volvemos a empezar."
   ]
  },
  {
   "cell_type": "code",
   "execution_count": 10,
   "metadata": {},
   "outputs": [],
   "source": [
    "def bubble_sort(a):\n",
    "    swapped = True\n",
    "    while swapped:\n",
    "        swapped = False\n",
    "        for i in range(len(a)-1):\n",
    "            if a[i] > a[i+1]:\n",
    "                a[i], a[i+1] = a[i+1], a[i]\n",
    "                swapped = True"
   ]
  },
  {
   "cell_type": "code",
   "execution_count": 11,
   "metadata": {},
   "outputs": [
    {
     "name": "stdout",
     "output_type": "stream",
     "text": [
      "[0 0 4 4 5 5 8 8 8 9]\n"
     ]
    }
   ],
   "source": [
    "temp = L.copy()\n",
    "bubble_sort(temp)\n",
    "print(temp)"
   ]
  },
  {
   "cell_type": "markdown",
   "metadata": {},
   "source": [
    "* **Tiempo:** Si el arreglo está ordenado al revés, en la primera iteración \"llevaremos\" el elemento más grande al último lugar. Después, en la siguiente iteración haremos lo mismo con el segundo más grande, y así sucesivamente. Entonces, la complejidad será de $O(n^2)$.\n",
    "* **Espacio:** Como solo maneja variables simples, la complejidad es $O(1)$.\n",
    "\n",
    "Podemos mejorar este algoritmo notando que, en la $n$-ésima iteración, estamos colocando el $n$-ésimo elemento más grande en su lugar final. Entonces, no tenemos que revisarlo en iteraciones subsecuentes:"
   ]
  },
  {
   "cell_type": "code",
   "execution_count": 32,
   "metadata": {},
   "outputs": [],
   "source": [
    "def bubble_sort_optim(a):\n",
    "    swapped = True\n",
    "    n = len(a)\n",
    "    while swapped:\n",
    "        swapped = False\n",
    "        for i in range(n-1):\n",
    "            if a[i] > a[i+1]:\n",
    "                a[i], a[i+1] = a[i+1], a[i]\n",
    "                swapped = True\n",
    "        n -= 1"
   ]
  },
  {
   "cell_type": "code",
   "execution_count": 33,
   "metadata": {},
   "outputs": [
    {
     "name": "stdout",
     "output_type": "stream",
     "text": [
      "[2 2 4 4 5 6 6 6 8 9]\n"
     ]
    }
   ],
   "source": [
    "temp = L.copy()\n",
    "bubble_sort_optim(temp)\n",
    "print(temp)"
   ]
  },
  {
   "cell_type": "markdown",
   "metadata": {},
   "source": [
    "Por desgracia, esto no cambia la complejidad en el peor de los casos."
   ]
  },
  {
   "cell_type": "markdown",
   "metadata": {},
   "source": [
    "## Merge sort\n",
    "\n",
    "1. Partimos la lista a la mitad, en parte izquierda (`L`) y derecha (`R`):\n",
    "2. Ordenamos las dos partes de manera recursiva.\n",
    "3. *Combinamos* las partes ordenadas en la lista final.\n",
    "\n",
    "El último paso lo logramos a través de la función `merge(L, R)`. Dadas las dos mitades de la lista, esta hace lo siguiente:\n",
    "1. Inicializa una lista vacía `out`.\n",
    "2. Compara el primer elemento de `L` con el primero de `R`, y añade el más pequeño a `out`.\n",
    "3. Repite esto hasta que una de las listas esté vacía.\n",
    "4. Añade todos los elementos restantes de la lista no vacía a `out`."
   ]
  },
  {
   "cell_type": "code",
   "execution_count": 34,
   "metadata": {},
   "outputs": [],
   "source": [
    "def merge_sort(a):\n",
    "    if len(a) <= 1:\n",
    "        return a\n",
    "    \n",
    "    mid = len(a) // 2\n",
    "    left = a[:mid]\n",
    "    right = a[mid:]\n",
    "    \n",
    "    left = merge_sort(left)\n",
    "    right = merge_sort(right)\n",
    "    return merge(left, right)\n",
    "\n",
    "def merge(left, right):\n",
    "    out = []\n",
    "    while len(left) > 0 and len(right) > 0:\n",
    "        if left[0] <= right[0]:\n",
    "            elem = left.pop(0)\n",
    "            out.append(elem)\n",
    "        else:\n",
    "            elem = right.pop(0)\n",
    "            out.append(elem)\n",
    "    \n",
    "    for elem in left:\n",
    "        out.append(elem)\n",
    "    for elem in right:\n",
    "        out.append(elem)\n",
    "    return out"
   ]
  },
  {
   "cell_type": "code",
   "execution_count": 37,
   "metadata": {},
   "outputs": [
    {
     "name": "stdout",
     "output_type": "stream",
     "text": [
      "[2, 2, 4, 4, 5, 6, 6, 6, 8, 9]\n"
     ]
    }
   ],
   "source": [
    "temp = list(L.copy())\n",
    "temp = merge_sort(temp)\n",
    "print(temp)"
   ]
  },
  {
   "cell_type": "markdown",
   "metadata": {},
   "source": [
    "**Tiempo** \n",
    "\n",
    "Notemos que el tiempo de ejecución sigue la siguiente relación de recurrencia:\n",
    "\n",
    "$$\n",
    "T(n) = 2T\\left(\\frac{n}{2}\\right) + n\n",
    "$$\n",
    "\n",
    "El primer término corresponde a ordenar las dos mitades de la lista de manera recursiva, mientras que el segundo es el ocupado por la función `merge`.\n",
    "\n",
    "Podemos obtener una expresión cerrada utilizando el [teorema maestro](https://en.wikipedia.org/wiki/Master_theorem_(analysis_of_algorithms)). Primero, el exponente crítico es:\n",
    "\n",
    "$$\n",
    "c_\\text{crit}=\\log_2(2)=1\n",
    "$$\n",
    "\n",
    "Dado que $f(n) = n = \\Theta(n^{c_\\text{crit}}\\log^k n)$, con $k=0$, concluimos que estamos en el caso 2 de la tabla. Por lo tanto:\n",
    "\n",
    "$$\n",
    "T(n) = \\Theta(n\\log n)\n",
    "$$\n",
    "\n",
    "**Espacio**\n",
    "\n",
    "Dado que partimos la lista en 2 recursivamente hasta llegar a una lista con 1 o 0 elementos, el tamaño máximo de la pila de llamada será de $O(\\log n)$. Por otro lado, en la función `merge` tenemos el arreglo `out` al cual vamos añadiendo los elementos ordenados. Al finalizar la ejecución, este tendrá tamaño $O(n)$.\n",
    "\n",
    "Por lo tanto, la complejidad en espacio es $O(\\log n) + O(n) \\sim O(n)$."
   ]
  },
  {
   "cell_type": "markdown",
   "metadata": {
    "id": "a1Obj3bFDwLU"
   },
   "source": [
    "## Counting sort\n",
    "\n",
    "1. Calculamos el máximo y mínimo del arreglo (`max` y `min`). Para nuestro arreglo de ejemplo, `min=2` y `max=9`.\n",
    "2. Generamos un arreglo auxiliar `counts` de tamaño `max - min + 1`. La `i`-ésima entrada corresponde a cuántas veces está el elemento `i + min` en el arreglo a ordenar.\n",
    "\n",
    "En nuestro ejemplo, este arreglo se ve de la siguiente forma:\n",
    "\n",
    "```\n",
    "counts = [2, 0, 2, 1, 3, 0, 1, 1]\n",
    "```\n",
    "\n",
    "Es decir, el `2` aparece 2 veces, el `3` 0 veces, etc.\n",
    "\n",
    "3. Sumamos el elemento `i` del arreglo `counts` con el `i+1`, y lo guardamos en la posición `i`. Después de hacer esto para cada par de elementos, la entrada `i` nos dice *hasta dónde llegan* el elemento `i + min` de la lista a ordenar.\n",
    "\n",
    "Aplicándolo a nuestro ejemplo:\n",
    "\n",
    "```\n",
    "counts = [2, 2, 4, 5, 8, 8, 9, 10]\n",
    "```\n",
    "\n",
    "* La primera entrada nos dice que el elemento `2` de la lista va en las posiciones 0 y 1 de la lista ordenada.\n",
    "* La segunda entrada nos dice que el elemento `3` no va en ninguna posición.\n",
    "* La tercera nos dice que el elemento `4` va en las posiciones 3 y 4.\n",
    "* Luego, el elemento `5` van en la posición 5.\n",
    "* Etcétera"
   ]
  },
  {
   "cell_type": "code",
   "execution_count": 69,
   "metadata": {
    "colab": {
     "base_uri": "https://localhost:8080/"
    },
    "id": "HbJhHPEIEOkY",
    "outputId": "6a67d5b6-ce7e-43cd-ab9a-adf06714b829"
   },
   "outputs": [],
   "source": [
    "def counting_sort(a):\n",
    "    min_ = min(a)\n",
    "    max_ = max(a)\n",
    "    k = max_ - min_ + 1\n",
    "    \n",
    "    count = [0] * k\n",
    "    out = [None] * len(a)\n",
    "    \n",
    "    for i in range(len(a)):\n",
    "        key = a[i] - min_\n",
    "        count[key] += 1\n",
    "\n",
    "    for i in range(1, k):\n",
    "        count[i] += count[i-1]\n",
    "   \n",
    "    for i in range(len(a)-1, -1, -1):\n",
    "        key = a[i] - min_\n",
    "        count[key] -= 1\n",
    "        out[count[key]] = a[i]\n",
    "    \n",
    "    return out"
   ]
  },
  {
   "cell_type": "code",
   "execution_count": 71,
   "metadata": {
    "colab": {
     "base_uri": "https://localhost:8080/"
    },
    "id": "HbJhHPEIEOkY",
    "outputId": "6a67d5b6-ce7e-43cd-ab9a-adf06714b829"
   },
   "outputs": [
    {
     "name": "stdout",
     "output_type": "stream",
     "text": [
      "[2, 0, 2, 1, 3, 0, 1, 1]\n",
      "[2, 2, 4, 5, 8, 8, 9, 10]\n",
      "[2, 2, 4, 4, 5, 6, 6, 6, 8, 9]\n"
     ]
    }
   ],
   "source": [
    "temp = L.copy()\n",
    "temp = counting_sort(temp)\n",
    "print(temp)"
   ]
  },
  {
   "cell_type": "markdown",
   "metadata": {},
   "source": [
    "* **Tiempo:** Analizando los bucles *for*, vemos que la complejidad es $O(n) + O(k) + O(n) \\sim O(k+n)$\n",
    "* **Espacio:** Dado que la lista `count` tiene tamaño $k$, y la lista `out` $n$, se concluye que la complejidad es $O(k+n)$."
   ]
  },
  {
   "cell_type": "markdown",
   "metadata": {},
   "source": [
    "# Tries"
   ]
  },
  {
   "cell_type": "markdown",
   "metadata": {},
   "source": [
    "Un trie es una estructura de datos basada en árboles que se utiliza para encontrar *strings* específicos en un conjunto.\n",
    "\n",
    "Por ejemplo, si tenemos la lista de palabras: `toro, tino, agua, asa, asta, vara`, el trie correspondiente se estructura de la siguiente manera:\n",
    "\n",
    "```\n",
    "                         ____ RAÍZ ____\n",
    "                       /         |       \\\n",
    "                      A          T        V\n",
    "                    /   \\       / \\       |\n",
    "                   G     S     O   I      A\n",
    "                   |    / \\    |   |      |\n",
    "                   U   A   T   R   N      R\n",
    "                   |       |   |   |      |\n",
    "                   A       A   O   O      A\n",
    "\n",
    "```\n",
    "\n",
    "Cada caracter tiene como hijos a todos los posibles caracteres subsecuentes que aparecen en el conjunto.\n",
    "\n",
    "A continuación, creamos una clase que represente a uno de los nodos de esta estructura de datos; tiene muchas similitudes con la clase de árboles de búsqueda binarios vista en la clase pasada:"
   ]
  },
  {
   "cell_type": "code",
   "execution_count": 70,
   "metadata": {},
   "outputs": [],
   "source": [
    "class TrieNode:\n",
    "    def __init__(self, key=None):\n",
    "        self.key = key\n",
    "        self.children = {}\n",
    "\n",
    "    def __repr__(self):\n",
    "        return f\"Llave: {self.key}\\nHijos: {list(self.children.keys())}\"\n",
    "    \n",
    "    def __getitem__(self, key):\n",
    "        assert isinstance(key, str)\n",
    "        \n",
    "        if len(key) == 1:\n",
    "            return self.children[key]\n",
    "        else:\n",
    "            return self.children[key[0]][key[1:]]"
   ]
  },
  {
   "cell_type": "markdown",
   "metadata": {},
   "source": [
    "Esta clase tiene dos atributos:\n",
    "\n",
    "* `key`: La llave (caracter) correspondiente al nodo.\n",
    "* `children`: Todos los hijos del nodo, al inicio vacío.\n",
    "\n",
    "Nótese que este último atributo es un diccionario; las llaves serán los atributos `key` de cada uno de los hijos, mientras que los valores serán los hijos correspondientes. Además, explotamos el *dunder* `__getitem__` para poder accesar los hijos del nodo de una manera más compacta."
   ]
  },
  {
   "cell_type": "markdown",
   "metadata": {},
   "source": [
    "## Inserción\n",
    "\n",
    "Para insertar una palabra al trie, vamos iterando letra por letra. En cada iteración, revisamos si el nodo en el que estamos parados actualmente tiene un hijo con la letra actual; si sí, simplemente pasamos a dicho hijo y a la siguiente letra de la palabra. En caso contrario, creamos un nodo, nos movemos a él, y pasamos a la siguiente letra:"
   ]
  },
  {
   "cell_type": "code",
   "execution_count": 75,
   "metadata": {},
   "outputs": [],
   "source": [
    "class TrieNode:\n",
    "    def __init__(self, key=None):\n",
    "        self.key = key\n",
    "        self.children = {}\n",
    "\n",
    "    def __repr__(self):\n",
    "        return f\"Llave: {self.key}\\nHijos: {list(self.children.keys())}\"\n",
    "    \n",
    "    def __getitem__(self, key):\n",
    "        assert isinstance(key, str)\n",
    "        \n",
    "        if len(key) == 1:\n",
    "            return self.children[key]\n",
    "        else:\n",
    "            return self.children[key[0]][key[1:]]\n",
    "        \n",
    "    def insert(self, word):\n",
    "        current = self\n",
    "        for c in word:\n",
    "            if c not in current.children:\n",
    "                current.children[c] = TrieNode(c)\n",
    "            current = current.children[c]"
   ]
  },
  {
   "cell_type": "code",
   "execution_count": 76,
   "metadata": {},
   "outputs": [],
   "source": [
    "root = TrieNode()\n",
    "root.insert(\"hola\")"
   ]
  },
  {
   "cell_type": "markdown",
   "metadata": {},
   "source": [
    "## Búsqueda\n",
    "\n",
    "Para determinar si un *string* está contenido en un trie, basta con iterar sobre cada uno de sus caracteres, e ir recorriendo el trie a la par. Si en algún momento intentamos desplazarnos a un nodo que no existe, significa que la palabra no está en el trie:"
   ]
  },
  {
   "cell_type": "code",
   "execution_count": 36,
   "metadata": {},
   "outputs": [],
   "source": [
    "class TrieNode:\n",
    "    def __init__(self, key=None):\n",
    "        self.key = key\n",
    "        self.children = {}\n",
    "\n",
    "    def __repr__(self):\n",
    "        return f\"Llave: {self.key}\\nHijos: {list(self.children.keys())}\"\n",
    "    \n",
    "    def __getitem__(self, key):\n",
    "        assert isinstance(key, str)\n",
    "        \n",
    "        if len(key) == 1:\n",
    "            return self.children[key]\n",
    "        else:\n",
    "            return self.children[key[0]][key[1:]]\n",
    "\n",
    "\n",
    "    def insert(self, word):\n",
    "        current = self\n",
    "        for c in word:\n",
    "            if c not in current.children:\n",
    "                current.children[c] = TrieNode(c)\n",
    "            current = current.children[c]\n",
    "\n",
    "    def search(self, word):\n",
    "        current = self\n",
    "        for c in word:\n",
    "            if c not in current.children:\n",
    "                return False\n",
    "            current = current.children[c]\n",
    "        return True"
   ]
  },
  {
   "cell_type": "code",
   "execution_count": 37,
   "metadata": {},
   "outputs": [],
   "source": [
    "root = TrieNode()\n",
    "root.insert(\"hola\")\n",
    "root.insert(\"hoja\")\n",
    "root.insert(\"papa\")\n",
    "root.insert(\"piedra\")\n",
    "root.insert(\"papel\")"
   ]
  },
  {
   "cell_type": "markdown",
   "metadata": {},
   "source": [
    "## Borrado\n",
    "\n",
    "La manera más sencilla y eficiente de borrar una palabra es introduciendo un atributo `parent`, que apunte al padre del nodo actual. De esta manera, una vez que hayamos determinado que la palabra se encuentra en el trie, solo necesitamos ir subiendo, borrando todos los nodos que tengan un solo hijo, y parando cuando encontremos uno que tiene dos o más.\n",
    "\n",
    "Naturalmente, modificamos la función de inserción para que actualice de manera correcta el campo de `parent`:"
   ]
  },
  {
   "cell_type": "code",
   "execution_count": 102,
   "metadata": {},
   "outputs": [],
   "source": [
    "class TrieNode:\n",
    "    def __init__(self, key=None, parent=None):\n",
    "        self.key = key\n",
    "        self.children = {}\n",
    "        self.parent = parent\n",
    "\n",
    "    def __repr__(self):\n",
    "        parent_key = None if self.parent is None else self.parent.key\n",
    "        return f\"Llave: {self.key}\\nPadre: {parent_key}\\nHijos: {list(self.children.keys())}\"\n",
    "    \n",
    "    def __getitem__(self, key):\n",
    "        assert isinstance(key, str)\n",
    "        \n",
    "        if len(key) == 1:\n",
    "            return self.children[key]\n",
    "        else:\n",
    "            return self.children[key[0]][key[1:]]\n",
    "\n",
    "    def insert(self, word):\n",
    "        current = self\n",
    "        for c in word:\n",
    "            if c not in current.children:\n",
    "                current.children[c] = TrieNode(key=c, parent=current)\n",
    "            current = current.children[c]\n",
    "\n",
    "    def search(self, word):\n",
    "        current = self\n",
    "        for c in word:\n",
    "            if c not in current.children:\n",
    "                return False\n",
    "            current = current.children[c]\n",
    "        return True\n",
    "    \n",
    "    def delete(self, word):\n",
    "        current = self\n",
    "        for c in word:\n",
    "            if c not in current.children:\n",
    "                return\n",
    "            current = current.children[c]\n",
    "        \n",
    "        num_deleted = 0\n",
    "        while len(current.parent.children) == 1:\n",
    "            current = current.parent\n",
    "            current.children = {}\n",
    "            num_deleted += 1\n",
    "        \n",
    "        final_letter = word[-num_deleted - 1]\n",
    "        del current.parent.children[final_letter]"
   ]
  },
  {
   "cell_type": "code",
   "execution_count": 103,
   "metadata": {},
   "outputs": [],
   "source": [
    "root = TrieNode()\n",
    "root.insert(\"hola\")\n",
    "root.insert(\"hoja\")\n",
    "root.insert(\"papa\")\n",
    "root.insert(\"piedra\")\n",
    "root.insert(\"papel\")\n",
    "\n",
    "root.delete(\"hola\")"
   ]
  },
  {
   "cell_type": "markdown",
   "metadata": {},
   "source": [
    "# Ejercicios"
   ]
  },
  {
   "cell_type": "markdown",
   "metadata": {},
   "source": [
    "## 1\n",
    "\n",
    "Para un arreglo $A$, decimos que ocurre un *volteo* si para un par de índices $i, j$ con $i<j$, ocurre que $A[i] > A[j]$. \n",
    "\n",
    "Escribe un algoritmo que cuente el número de volteos. Debe de tener complejidad en tiempo $O(n\\log n)$, donde $n$ es el número de elementos del arreglo. Calcula su complejidad en espacio."
   ]
  },
  {
   "cell_type": "markdown",
   "metadata": {},
   "source": [
    "*Aquí va la explicación de tu algoritmo*"
   ]
  },
  {
   "cell_type": "code",
   "execution_count": 1,
   "metadata": {},
   "outputs": [],
   "source": [
    "# Aquí va el código"
   ]
  },
  {
   "cell_type": "markdown",
   "metadata": {},
   "source": [
    "## 2\n",
    "\n",
    "Dado un arreglo $A$ de números enteros, y un entero $k>0$, escribe un algoritmo que regrese todos los pares $(a,b)$ con $a,b\\in A$ que cumplen $a-b=k$. Este debe de correr en tiempo lineal, y el resultado no debe de tener pares repetidos."
   ]
  },
  {
   "cell_type": "markdown",
   "metadata": {},
   "source": [
    "*Aquí va la explicación de tu algoritmo*"
   ]
  },
  {
   "cell_type": "code",
   "execution_count": null,
   "metadata": {},
   "outputs": [],
   "source": [
    "# Aquí va el código"
   ]
  },
  {
   "cell_type": "markdown",
   "metadata": {},
   "source": [
    "## 3\n",
    "\n",
    "Dado un arreglo $A$, escribe un algoritmo que determine la tupla $(a, b, c)$ con $a, b, c\\in A$ tal que el producto $a\\cdot b\\cdot c$ es máximo. Este debe de correr en tiempo lineal."
   ]
  },
  {
   "cell_type": "markdown",
   "metadata": {},
   "source": [
    "*Aquí va la explicación de tu algoritmo*"
   ]
  },
  {
   "cell_type": "code",
   "execution_count": null,
   "metadata": {},
   "outputs": [],
   "source": [
    "# Aquí va el código"
   ]
  }
 ],
 "metadata": {
  "colab": {
   "collapsed_sections": [],
   "include_colab_link": true,
   "name": "Algoritmos de Ordenamiento.ipynb",
   "provenance": []
  },
  "kernelspec": {
   "display_name": "Python 3",
   "language": "python",
   "name": "python3"
  },
  "language_info": {
   "codemirror_mode": {
    "name": "ipython",
    "version": 3
   },
   "file_extension": ".py",
   "mimetype": "text/x-python",
   "name": "python",
   "nbconvert_exporter": "python",
   "pygments_lexer": "ipython3",
   "version": "3.11.4"
  }
 },
 "nbformat": 4,
 "nbformat_minor": 4
}
