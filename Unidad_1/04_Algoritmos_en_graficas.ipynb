{
 "cells": [
  {
   "cell_type": "markdown",
   "metadata": {
    "colab_type": "text",
    "id": "view-in-github"
   },
   "source": [
    "<a href=\"https://colab.research.google.com/github/RodolfoFigueroa/madi2024/blob/main/Unidad_1/04_Algoritmos_en_graficas.ipynb\" target=\"_parent\"><img src=\"https://colab.research.google.com/assets/colab-badge.svg\" alt=\"Open In Colab\"/></a>"
   ]
  },
  {
   "cell_type": "code",
   "execution_count": 12,
   "metadata": {
    "id": "Mp2n8a9m1QIA"
   },
   "outputs": [],
   "source": [
    "import matplotlib.pyplot as plt\n",
    "import networkx as nx\n",
    "import numpy as np"
   ]
  },
  {
   "cell_type": "markdown",
   "metadata": {
    "id": "1IpXBIpz2E1h"
   },
   "source": [
    "En esta sesión veremos algunos algoritmos relacionados con gráficas\n",
    "\n",
    "# Encontrar hojas\n",
    "\n",
    "Dado un árbol, encuentra sus hojas. (Recuerda que las hojas son aquellos vértices que tienen un único vecino)"
   ]
  },
  {
   "cell_type": "code",
   "execution_count": 13,
   "metadata": {
    "colab": {
     "base_uri": "https://localhost:8080/",
     "height": 420
    },
    "id": "E_V4gpFuE_hf",
    "outputId": "80c7f72d-7059-43a8-dac7-4d9b31008e19"
   },
   "outputs": [
    {
     "data": {
      "image/png": "[encoded data removed]",
      "text/plain": [
       "<Figure size 432x288 with 1 Axes>"
      ]
     },
     "metadata": {},
     "output_type": "display_data"
    }
   ],
   "source": [
    "G = nx.random_tree(10)\n",
    "nx.draw(G, with_labels=True, font_weight='bold')"
   ]
  },
  {
   "cell_type": "code",
   "execution_count": 14,
   "metadata": {
    "colab": {
     "base_uri": "https://localhost:8080/",
     "height": 420
    },
    "id": "E_V4gpFuE_hf",
    "outputId": "80c7f72d-7059-43a8-dac7-4d9b31008e19"
   },
   "outputs": [
    {
     "name": "stdout",
     "output_type": "stream",
     "text": [
      "4\n",
      "5\n",
      "6\n",
      "7\n"
     ]
    }
   ],
   "source": [
    "for v in G.nodes: \n",
    "    if G.degree[v] == 1:\n",
    "        print(v)"
   ]
  },
  {
   "cell_type": "markdown",
   "metadata": {
    "id": "s9nGfiiNLM1Y"
   },
   "source": [
    "Como las hojas tienen un único vecino, su grado es $1$, por lo que podemos aprovechar el atributo `degree` de la gráfica."
   ]
  },
  {
   "cell_type": "markdown",
   "metadata": {
    "id": "LKQLx2kSAJlN"
   },
   "source": [
    "# Depth-first search (DFS)\n",
    "\n",
    "Este algoritmo nos permite recorrer la gráfica por profundidad, es decir, dado un vértice inicial $v$, explora la gráfica la mayor distancia posible a lo largo de cada rama antes de regresar.\n",
    "\n",
    "El recorrido de este algoritmo nos da un árbol, comúnmente llamado árbol de DFS, que suele ser muy útil.\n",
    "\n",
    "Escribimos ahora nuestro algoritmo; lo definimos de manera recursiva:"
   ]
  },
  {
   "cell_type": "code",
   "execution_count": 15,
   "metadata": {},
   "outputs": [],
   "source": [
    "def foo(x, y=5):\n",
    "    return x + y"
   ]
  },
  {
   "cell_type": "code",
   "execution_count": 16,
   "metadata": {},
   "outputs": [
    {
     "data": {
      "text/plain": [
       "9"
      ]
     },
     "execution_count": 16,
     "metadata": {},
     "output_type": "execute_result"
    }
   ],
   "source": [
    "foo(4)"
   ]
  },
  {
   "cell_type": "code",
   "execution_count": 17,
   "metadata": {},
   "outputs": [
    {
     "data": {
      "text/plain": [
       "[False, False, False, False, False, False, False, False, False, False]"
      ]
     },
     "execution_count": 17,
     "metadata": {},
     "output_type": "execute_result"
    }
   ],
   "source": [
    "x = [False] * len(G.nodes)\n",
    "x"
   ]
  },
  {
   "cell_type": "code",
   "execution_count": 18,
   "metadata": {},
   "outputs": [],
   "source": [
    "def dfs(g, v, visited=None, dfs_path=None):\n",
    "    if visited is None:\n",
    "        visited = [False] * len(g.nodes)\n",
    "    \n",
    "    if dfs_path is None:\n",
    "        dfs_path = []\n",
    "        \n",
    "    visited[v] = True\n",
    "    dfs_path.append(v) # Aquí puede ir cualquier otra cosa\n",
    "    for u in g.adj[v]:\n",
    "        if not visited[u]:\n",
    "            dfs(g, u, visited, dfs_path)\n",
    "    return dfs_path"
   ]
  },
  {
   "cell_type": "markdown",
   "metadata": {},
   "source": [
    "Generamos una gráfica aleatoria para probarlo:"
   ]
  },
  {
   "cell_type": "code",
   "execution_count": 19,
   "metadata": {
    "colab": {
     "base_uri": "https://localhost:8080/",
     "height": 487
    },
    "id": "MGKdGGlZA-Zj",
    "outputId": "3fb51bc9-b7e1-4e5b-ce4d-628b00e41051"
   },
   "outputs": [
    {
     "data": {
      "image/png": "[encoded data removed]",
      "text/plain": [
       "<Figure size 432x288 with 1 Axes>"
      ]
     },
     "metadata": {},
     "output_type": "display_data"
    }
   ],
   "source": [
    "G = nx.gnp_random_graph(8, 1/3)\n",
    "nx.draw(G, with_labels=True, font_weight='bold')"
   ]
  },
  {
   "cell_type": "code",
   "execution_count": 20,
   "metadata": {
    "colab": {
     "base_uri": "https://localhost:8080/",
     "height": 487
    },
    "id": "MGKdGGlZA-Zj",
    "outputId": "3fb51bc9-b7e1-4e5b-ce4d-628b00e41051"
   },
   "outputs": [
    {
     "data": {
      "text/plain": [
       "[0, 2, 3, 1, 7, 4, 6]"
      ]
     },
     "execution_count": 20,
     "metadata": {},
     "output_type": "execute_result"
    }
   ],
   "source": [
    "dfs(G, 0)"
   ]
  },
  {
   "cell_type": "markdown",
   "metadata": {
    "id": "YnKKRH4XCKw0"
   },
   "source": [
    "## Altura de un árbol\n",
    "\n",
    "Encontremos la altura de un árbol usando DFS; el procedimiento es bastante sencillo: todo lo que tenemos que hacer es calcular la altura de cada uno de los vértices, guardando el valor más alto encontrado en cada llamada recursiva:"
   ]
  },
  {
   "cell_type": "code",
   "execution_count": 21,
   "metadata": {
    "colab": {
     "base_uri": "https://localhost:8080/",
     "height": 370
    },
    "id": "ggAg_-2ODLvp",
    "outputId": "d3730dcd-3bac-40cb-b7cb-73d65493f077"
   },
   "outputs": [],
   "source": [
    "def tree_height(\n",
    "    g, # Gráfica a analizar\n",
    "    v, # Vértice inicial\n",
    "    heights = None, # Lista de alturas\n",
    "    max_height = None # Altura máxima\n",
    "):\n",
    "    if heights is None:\n",
    "        heights = [-1] * len(g.nodes)\n",
    "        heights[v] = 0\n",
    "        \n",
    "    if max_height is None:\n",
    "        max_height = [0] # La hacemos una lista para guardarla de manera sencilla a lo largo de llamadas recursivas\n",
    "        \n",
    "    for u in g.adj[v]:\n",
    "        if heights[u] == -1:\n",
    "            heights[u] = heights[v] + 1\n",
    "            if max_height[0] < heights[u]:\n",
    "                max_height[0] = heights[u]\n",
    "            temp_height = tree_height(g, u, heights, max_height)\n",
    "    return max_height[0], heights"
   ]
  },
  {
   "cell_type": "markdown",
   "metadata": {},
   "source": [
    "Otra manera de hacer esto sin tener que estar actualizando la altura máxima es simplemente calculando todas las alturas, y después obteniendo el máximo de la lista:"
   ]
  },
  {
   "cell_type": "code",
   "execution_count": 22,
   "metadata": {},
   "outputs": [],
   "source": [
    "def tree_height_2(\n",
    "    g, # Gráfica a analizar\n",
    "    v, # Vértice inicial\n",
    "    heights = None, # Lista de alturas\n",
    "):\n",
    "    if heights is None:\n",
    "        heights = [-1] * len(g.nodes)\n",
    "        heights[v] = 0\n",
    "        \n",
    "    for u in g.adj[v]:\n",
    "        if heights[u] == -1:\n",
    "            heights[u] = heights[v] + 1\n",
    "            temp_height = tree_height_2(g, u, heights)\n",
    "    return max(heights), heights"
   ]
  },
  {
   "cell_type": "markdown",
   "metadata": {},
   "source": [
    "El problema con esto es que tiene que iterar sobre toda la lista de alturas para encontrar el máximo, lo cual puede consumir mucho tiempo extra cuando se tengan muchos nodos."
   ]
  },
  {
   "cell_type": "code",
   "execution_count": 23,
   "metadata": {},
   "outputs": [
    {
     "data": {
      "image/png": "[encoded data removed]",
      "text/plain": [
       "<Figure size 432x288 with 1 Axes>"
      ]
     },
     "metadata": {},
     "output_type": "display_data"
    }
   ],
   "source": [
    "T = nx.random_tree(10)\n",
    "nx.draw(T, with_labels=True, font_weight='bold', font_color=\"white\")"
   ]
  },
  {
   "cell_type": "code",
   "execution_count": 24,
   "metadata": {},
   "outputs": [
    {
     "name": "stdout",
     "output_type": "stream",
     "text": [
      "5\n",
      "[0, 3, 5, 3, 4, 3, 2, 5, 1, 4]\n"
     ]
    }
   ],
   "source": [
    "m, h = tree_height(T, 0)\n",
    "print(m)\n",
    "print(h)"
   ]
  },
  {
   "cell_type": "markdown",
   "metadata": {},
   "source": [
    "## Coloreado\n",
    "\n",
    "El colorear una gráfica consiste en asignar un color a cada nodo, de modo que cada par de nodos adyacentes tengan colores distintos. En 1976, se probó que para cualquier gráfica planar (i.e., que las aristas no se cruzan) se necesitan a lo mucho [cuatro colores](https://en.wikipedia.org/wiki/Four_color_theorem), aunque el algoritmo que implementaremos usa más colores que este óptimo.\n",
    "\n",
    "El procedimiento es como sigue: recorremos la gráfica utilizando DFS. Si un nodo no está coloreado, significa que no lo hemos visitado, así que lo visitamos y lo coloreamos con el primer color que no tengan sus vecinos. Repetimos esto hasta que todos los nodos estén coloreados.\n",
    "\n",
    "Por simplicidad, identificamos los colores como números del 0 en adelante. Escribimos una función para encontrar el primer color no utilizado, dada una lista de los colores adyacentes (en otras palabras, el número más pequeño distinto de todos los números dados):"
   ]
  },
  {
   "cell_type": "code",
   "execution_count": 25,
   "metadata": {},
   "outputs": [],
   "source": [
    "def first_available_color(neighbor_colors):\n",
    "    out = 0\n",
    "    while True:\n",
    "        if out not in neighbor_colors:\n",
    "            return out\n",
    "        out += 1"
   ]
  },
  {
   "cell_type": "markdown",
   "metadata": {},
   "source": [
    "Luego, definimos una función para hacer DFS y colorear. Al final de la ejecución, regresa una lista con los índices de los colores de cada nodo:"
   ]
  },
  {
   "cell_type": "code",
   "execution_count": 26,
   "metadata": {},
   "outputs": [],
   "source": [
    "def graph_coloring(g, v, visited=None):\n",
    "    if visited is None:\n",
    "        visited = [-1] * len(g.nodes)\n",
    "    \n",
    "    neighbor_colors = [ visited[n] for n in g.adj[v] ]\n",
    "    new_color = first_available_color(neighbor_colors)\n",
    "    visited[v] = new_color\n",
    "    \n",
    "    for u in g.adj[v]:\n",
    "        if visited[u] == -1:\n",
    "            graph_coloring(g, u, visited)\n",
    "            \n",
    "    return visited"
   ]
  },
  {
   "cell_type": "markdown",
   "metadata": {},
   "source": [
    "Sin embargo, esta función no es suficiente. Para entender por qué, consideremos la siguiente gráfica:"
   ]
  },
  {
   "cell_type": "code",
   "execution_count": 27,
   "metadata": {},
   "outputs": [
    {
     "data": {
      "image/png": "[encoded data removed]",
      "text/plain": [
       "<Figure size 432x288 with 1 Axes>"
      ]
     },
     "metadata": {},
     "output_type": "display_data"
    }
   ],
   "source": [
    "G = nx.gnp_random_graph(15, 1/5, seed=42)\n",
    "nx.draw(G, with_labels=True, font_weight='bold')"
   ]
  },
  {
   "cell_type": "markdown",
   "metadata": {},
   "source": [
    "Podemos ver que tiene dos componentes conexas. Si iniciamos el recorrido DFS del nodo 12, lo que pasará es que no podrá visitar la otra componente conexa, y por lo tanto no actualizará los colores de sus vértices. Comprobando que esto pasa:"
   ]
  },
  {
   "cell_type": "code",
   "execution_count": 28,
   "metadata": {},
   "outputs": [
    {
     "data": {
      "text/plain": [
       "[-1, -1, -1, -1, -1, -1, -1, -1, -1, -1, -1, -1, 0, -1, -1]"
      ]
     },
     "execution_count": 28,
     "metadata": {},
     "output_type": "execute_result"
    }
   ],
   "source": [
    "graph_coloring(G, 12)"
   ]
  },
  {
   "cell_type": "markdown",
   "metadata": {},
   "source": [
    "Para resolver esto, escribimos una función que itere sobre cada entrada de la lista `visited`, y si ve alguna que es `-1` (i.e., el vértice correspondiente no ha sido visitado), llama la función `graph_coloring`. De esta manera, todas las componentes conexas se visitarán:"
   ]
  },
  {
   "cell_type": "code",
   "execution_count": 29,
   "metadata": {},
   "outputs": [],
   "source": [
    "def super_graph_coloring(g, visited=None):\n",
    "    if visited is None:\n",
    "        visited = [-1] * len(g.nodes)\n",
    "        \n",
    "    for v, vis in enumerate(visited):\n",
    "        if vis == -1:\n",
    "            graph_coloring(g, v, visited)\n",
    "            \n",
    "    return visited"
   ]
  },
  {
   "cell_type": "markdown",
   "metadata": {},
   "source": [
    "Repitiendo sobre la gráfica anterior:"
   ]
  },
  {
   "cell_type": "code",
   "execution_count": 30,
   "metadata": {},
   "outputs": [
    {
     "data": {
      "text/plain": [
       "[0, 0, 1, 0, 0, 0, 1, 1, 1, 1, 2, 1, 0, 2, 2]"
      ]
     },
     "execution_count": 30,
     "metadata": {},
     "output_type": "execute_result"
    }
   ],
   "source": [
    "node_colors = super_graph_coloring(G)\n",
    "node_colors"
   ]
  },
  {
   "cell_type": "markdown",
   "metadata": {},
   "source": [
    "Ahora podemos ver que todos los vértices fueron visitados y coloreados apropiadamente.\n",
    "\n",
    "Como bonus, mapeamos los índices a nombres de colores reales, y los utilizamos para graficar la gráfica:"
   ]
  },
  {
   "cell_type": "code",
   "execution_count": 31,
   "metadata": {},
   "outputs": [
    {
     "data": {
      "text/plain": [
       "['red',\n",
       " 'red',\n",
       " 'green',\n",
       " 'red',\n",
       " 'red',\n",
       " 'red',\n",
       " 'green',\n",
       " 'green',\n",
       " 'green',\n",
       " 'green',\n",
       " 'blue',\n",
       " 'green',\n",
       " 'red',\n",
       " 'blue',\n",
       " 'blue']"
      ]
     },
     "execution_count": 31,
     "metadata": {},
     "output_type": "execute_result"
    }
   ],
   "source": [
    "color_names = ['red', 'green', 'blue', 'orange']\n",
    "color_map = [None] * len(node_colors)\n",
    "for i, c in enumerate(node_colors):\n",
    "    color_map[i] = color_names[c]\n",
    "color_map"
   ]
  },
  {
   "cell_type": "code",
   "execution_count": 33,
   "metadata": {},
   "outputs": [
    {
     "data": {
      "image/png": "[encoded data removed]",
      "text/plain": [
       "<Figure size 432x288 with 1 Axes>"
      ]
     },
     "metadata": {},
     "output_type": "display_data"
    }
   ],
   "source": [
    "nx.draw(G, with_labels=True, font_weight='bold', node_color=color_map)"
   ]
  },
  {
   "cell_type": "markdown",
   "metadata": {},
   "source": [
    "## Ciclos\n",
    "\n",
    "¿Cómo detectar si una gráfica tiene algún ciclo? Para esto, recorremos la gráfica utilizando DFS, y en cada paso, vamos guardando el *padre* del vértice, i.e., el vértice en el que estábamos en el paso anterior. Si en algún momento estamos en un vértice que tenga un vértice adyacente que ya fue visitado, y que es distinto de su padre, entonces sabemos que existe un ciclo."
   ]
  },
  {
   "cell_type": "code",
   "execution_count": 94,
   "metadata": {},
   "outputs": [],
   "source": [
    "def dfs_cycle(g, v, parents=None, cycle=None):\n",
    "    if cycle is None:\n",
    "        cycle = [False]\n",
    "    \n",
    "    if parents is None:\n",
    "        parents = [None] * len(g.nodes)\n",
    "        parents[v] = v\n",
    "        \n",
    "    for u in g.adj[v]:\n",
    "        if parents[u] is None:\n",
    "            parents[u] = v\n",
    "            dfs_cycle(g, u, parents, cycle)\n",
    "        else:\n",
    "            if parents[v] != u:\n",
    "                cycle[0] = True\n",
    "    \n",
    "    return cycle[0]"
   ]
  },
  {
   "cell_type": "markdown",
   "metadata": {},
   "source": [
    "Al igual que en el caso del coloreado, tenemos que tomar en cuenta la posibilidad de que existan distintas componentes conexas:"
   ]
  },
  {
   "cell_type": "code",
   "execution_count": 106,
   "metadata": {},
   "outputs": [],
   "source": [
    "def has_cycle(g):\n",
    "    parents = [None] * len(g.nodes)\n",
    "    cycle = False\n",
    "    for v in g.nodes:\n",
    "        if parents[v] is None:\n",
    "            parents[v] = v\n",
    "            component_cycle = dfs_cycle(g, v, parents)\n",
    "            cycle = cycle | component_cycle\n",
    "    return cycle"
   ]
  },
  {
   "cell_type": "markdown",
   "metadata": {},
   "source": [
    "Generamos una gráfica para probar nuestro algoritmo:"
   ]
  },
  {
   "cell_type": "code",
   "execution_count": 107,
   "metadata": {
    "colab": {
     "base_uri": "https://localhost:8080/",
     "height": 504
    },
    "id": "GrJx8CxufG8N",
    "outputId": "ed35aec8-ac4d-4224-e4fb-4be551e5efa1"
   },
   "outputs": [
    {
     "data": {
      "image/png": "[encoded data removed]",
      "text/plain": [
       "<Figure size 432x288 with 1 Axes>"
      ]
     },
     "metadata": {},
     "output_type": "display_data"
    }
   ],
   "source": [
    "G = nx.gnp_random_graph(10, 1/4, seed=42)\n",
    "nx.draw(G, with_labels=True, font_weight='bold')"
   ]
  },
  {
   "cell_type": "code",
   "execution_count": 108,
   "metadata": {},
   "outputs": [
    {
     "data": {
      "text/plain": [
       "True"
      ]
     },
     "execution_count": 108,
     "metadata": {},
     "output_type": "execute_result"
    }
   ],
   "source": [
    "has_cycle(G)"
   ]
  },
  {
   "cell_type": "markdown",
   "metadata": {},
   "source": [
    "Luego, generamos un árbol:"
   ]
  },
  {
   "cell_type": "code",
   "execution_count": 109,
   "metadata": {},
   "outputs": [
    {
     "data": {
      "image/png": "[encoded data removed]",
      "text/plain": [
       "<Figure size 432x288 with 1 Axes>"
      ]
     },
     "metadata": {},
     "output_type": "display_data"
    }
   ],
   "source": [
    "G = nx.random_tree(10)\n",
    "nx.draw(G, with_labels=True, font_weight=\"bold\")"
   ]
  },
  {
   "cell_type": "markdown",
   "metadata": {},
   "source": [
    "Comprobando que no tiene ciclos:"
   ]
  },
  {
   "cell_type": "code",
   "execution_count": 23,
   "metadata": {},
   "outputs": [
    {
     "data": {
      "text/plain": [
       "False"
      ]
     },
     "execution_count": 23,
     "metadata": {},
     "output_type": "execute_result"
    }
   ],
   "source": [
    "has_cycle(G)"
   ]
  },
  {
   "cell_type": "markdown",
   "metadata": {
    "id": "HCg7n50GMaMB"
   },
   "source": [
    "# Breadth-first search\n",
    "\n",
    "Este algoritmos nos permite, a partir de cierto vértice recorrer la gráfica por anchura, es decir, irnos expandiendo a partir de un vértices inicial $v$, primero se visitan los vértices vecinos a $v$, después los vecinos de sus vecinos, y así sucesivamente. \n",
    "\n",
    "Esto en particular nos permite conocer la distancia del vértice $v$ a cualquier otro vértice de la gráfica, lo cual no es posible con DFS. Además, el recorrido que se hace con este algoritmo nos da un árbol generador de la componente conexa en la que se encuentra el vértice de donde partimos.\n",
    "\n",
    "Escribiremos un código por nuestra cuenta, por momento sin hacer uso de algoritmos de la librería NetworkX. Para esto, necesitaremos usar una estructura llamada **cola** (queue en inglés), cuya cualidad es que el primer objeto en ser insertado es el primero en ser eliminado."
   ]
  },
  {
   "cell_type": "code",
   "execution_count": 112,
   "metadata": {},
   "outputs": [],
   "source": [
    "from collections import deque\n",
    "\n",
    "def bfs(g, v):\n",
    "    visited = [False] * len(g.nodes)\n",
    "    visited[v] = True\n",
    "    \n",
    "    q = deque()\n",
    "    q.append(v)\n",
    "    \n",
    "    while q: # mientras q tenga elementos\n",
    "        u = q.popleft()\n",
    "        print(u) # Pueden hacer lo que quieran\n",
    "        for w in g.adj[u]:\n",
    "            if not visited[w]:\n",
    "                visited[w] = True\n",
    "                q.append(w)"
   ]
  },
  {
   "cell_type": "code",
   "execution_count": 118,
   "metadata": {
    "colab": {
     "base_uri": "https://localhost:8080/",
     "height": 571
    },
    "id": "N6JRhvyNuxxi",
    "outputId": "d1a39203-0528-46bf-fad2-c50154f72e5d"
   },
   "outputs": [
    {
     "data": {
      "image/png": "[encoded data removed]",
      "text/plain": [
       "<Figure size 432x288 with 1 Axes>"
      ]
     },
     "metadata": {},
     "output_type": "display_data"
    }
   ],
   "source": [
    "G = nx.gnp_random_graph(10, 1/5, seed=42)\n",
    "nx.draw(G, with_labels=True, font_weight='bold', font_color=\"white\")"
   ]
  },
  {
   "cell_type": "code",
   "execution_count": 114,
   "metadata": {
    "colab": {
     "base_uri": "https://localhost:8080/",
     "height": 571
    },
    "id": "N6JRhvyNuxxi",
    "outputId": "d1a39203-0528-46bf-fad2-c50154f72e5d"
   },
   "outputs": [
    {
     "name": "stdout",
     "output_type": "stream",
     "text": [
      "0\n",
      "2\n",
      "8\n",
      "1\n",
      "5\n",
      "9\n",
      "6\n",
      "3\n",
      "7\n"
     ]
    }
   ],
   "source": [
    "bfs(G, 0)"
   ]
  },
  {
   "cell_type": "markdown",
   "metadata": {},
   "source": [
    "## Caminos\n",
    "\n",
    "¿Cómo podemos encontrar el camino más corto entre un par de vértices usando BFS?\n",
    "\n",
    "Notemos que podemos hacer algunas ligeras modificaciones para lograr nuestro objetivo: en lugar de que `visited` guarde si ya vimmos al vértice o no, crearemos una lista `parents` que guarde al vértice 'padre' de cada vértice que se vaya visitando, es decir, si $u$ es vecino de $v$ y $u$ no ha sido visitado en el recorrido de nuestro BFS, haremos `parents[u] = v`, indicando que justo para pasar a $u$ pasamos por $v$ previamente.\n",
    "\n",
    "Notemos que al tener guardados estos 'padres' de los vértices podemos reconstruir fácilmente un camino de longitud mínima de entre `u` y `v`, pues basta con ir caminando sobre los padres de los vértices, comenzando por `v`, hasta llegar a `u`."
   ]
  },
  {
   "cell_type": "code",
   "execution_count": 119,
   "metadata": {},
   "outputs": [],
   "source": [
    "def bfs_parents(g, v):\n",
    "    parents = [None] * len(g.nodes)\n",
    "    parents[v] = v\n",
    "    \n",
    "    q = deque()\n",
    "    q.append(v)\n",
    "    \n",
    "    while(q):\n",
    "        u = q.popleft()\n",
    "        for w in g.adj[u]:\n",
    "            if parents[w] is None:\n",
    "                parents[w] = u\n",
    "                q.append(w)\n",
    "    parents[v] = None\n",
    "    return parents    "
   ]
  },
  {
   "cell_type": "markdown",
   "metadata": {},
   "source": [
    "Aplicándolo a la gráfica anterior, e imprimiendo los padres resultantes:"
   ]
  },
  {
   "cell_type": "code",
   "execution_count": 120,
   "metadata": {},
   "outputs": [
    {
     "name": "stdout",
     "output_type": "stream",
     "text": [
      "0 es hijo de None\n",
      "1 es hijo de 2\n",
      "2 es hijo de 0\n",
      "3 es hijo de 6\n",
      "4 es hijo de None\n",
      "5 es hijo de 2\n",
      "6 es hijo de 1\n",
      "7 es hijo de 3\n",
      "8 es hijo de 0\n",
      "9 es hijo de 2\n"
     ]
    }
   ],
   "source": [
    "par = bfs_parents(G, 0)\n",
    "for i, p in enumerate(par):\n",
    "    print(f\"{i} es hijo de {p}\")"
   ]
  },
  {
   "cell_type": "markdown",
   "metadata": {},
   "source": [
    "Naturalmente, si cambiamos el vértice inicial, las relaciones padre-hijo cambian:"
   ]
  },
  {
   "cell_type": "code",
   "execution_count": 121,
   "metadata": {},
   "outputs": [
    {
     "name": "stdout",
     "output_type": "stream",
     "text": [
      "0 es hijo de 2\n",
      "1 es hijo de 6\n",
      "2 es hijo de 1\n",
      "3 es hijo de 7\n",
      "4 es hijo de None\n",
      "5 es hijo de 1\n",
      "6 es hijo de 3\n",
      "7 es hijo de None\n",
      "8 es hijo de 9\n",
      "9 es hijo de 6\n"
     ]
    }
   ],
   "source": [
    "par = bfs_parents(G, 7)\n",
    "for i, p in enumerate(par):\n",
    "    print(f\"{i} es hijo de {p}\")"
   ]
  },
  {
   "cell_type": "markdown",
   "metadata": {},
   "source": [
    "Con esta lista de padres, podemos reconstruir un camino entre cualquier par de vértices. Empezamos en el vértice final, y vamos visitando su padre, luego el padre de su padre, y así sucesivamente hasta llegar al vértice inicial."
   ]
  },
  {
   "cell_type": "code",
   "execution_count": 122,
   "metadata": {},
   "outputs": [],
   "source": [
    "def path(g, start, end):\n",
    "    parents = bfs_parents(g, start)\n",
    "    if parents[end] is None: # No están en la misma componente conexa\n",
    "        return []\n",
    "    else:\n",
    "        out = [end]\n",
    "        while parents[end] != start:\n",
    "            end = parents[end]\n",
    "            out.append(end)\n",
    "        out.append(start)\n",
    "    return out"
   ]
  },
  {
   "cell_type": "markdown",
   "metadata": {},
   "source": [
    "Usándolo para encontrar el camino entre el nodo 0 y el 7:"
   ]
  },
  {
   "cell_type": "code",
   "execution_count": 124,
   "metadata": {},
   "outputs": [
    {
     "data": {
      "text/plain": [
       "[7, 3, 6, 1, 2, 0]"
      ]
     },
     "execution_count": 124,
     "metadata": {},
     "output_type": "execute_result"
    }
   ],
   "source": [
    "path(G, 0, 7)"
   ]
  },
  {
   "cell_type": "markdown",
   "metadata": {},
   "source": [
    "Y entre el 4 y el 7 (que no se encuentran en la misma componente conexa):"
   ]
  },
  {
   "cell_type": "code",
   "execution_count": 125,
   "metadata": {},
   "outputs": [
    {
     "data": {
      "text/plain": [
       "[]"
      ]
     },
     "execution_count": 125,
     "metadata": {},
     "output_type": "execute_result"
    }
   ],
   "source": [
    "path(G, 4, 7)"
   ]
  },
  {
   "cell_type": "markdown",
   "metadata": {},
   "source": [
    "# Árboles generadores\n",
    "\n",
    "El árbol generador de una gráfica $G$ es un árbol que contiene todos los vértices de $G$. Podemos usar DFS (o BFS) para producirlo de la siguiente manera:\n",
    "\n",
    "1. Caminamos toda la gráfica y obtenemos los padres de cada vértice.\n",
    "2. Insertamos una arista entre hijo y su padre.\n",
    "\n",
    "Al árbol resultante se le conoce como árbol DFS (BFS).\n",
    "\n",
    "Dado que ya tenemos una función para generar los padres con BFS (`bfs_parents`), escribimos una para hacerlo usando DFS:"
   ]
  },
  {
   "cell_type": "code",
   "execution_count": 129,
   "metadata": {},
   "outputs": [],
   "source": [
    "def dfs_parents(g, v, parents=None):\n",
    "    if parents is None:\n",
    "        parents = [None] * len(g.nodes)\n",
    "        parents[v] = v\n",
    "        \n",
    "    for u in g.adj[v]:\n",
    "        if parents[u] is None:\n",
    "            parents[u] = v\n",
    "            dfs_parents(g, u, parents)\n",
    "    return parents"
   ]
  },
  {
   "cell_type": "markdown",
   "metadata": {},
   "source": [
    "Luego, escribimos una función para generar un árbol dada una lista de parentezco:"
   ]
  },
  {
   "cell_type": "code",
   "execution_count": 130,
   "metadata": {},
   "outputs": [],
   "source": [
    "def tree_from_parents(g, parents):\n",
    "    tree = nx.Graph()\n",
    "    tree.add_nodes_from(g.nodes)\n",
    "    for child, parent in enumerate(parents):\n",
    "        if child is not None and parent is not None and child != parent:\n",
    "            tree.add_edge(child, parent)\n",
    "    return tree"
   ]
  },
  {
   "cell_type": "markdown",
   "metadata": {},
   "source": [
    "Generamos una gráfica de prueba:"
   ]
  },
  {
   "cell_type": "code",
   "execution_count": 131,
   "metadata": {},
   "outputs": [
    {
     "data": {
      "image/png": "[encoded data removed]",
      "text/plain": [
       "<Figure size 432x288 with 1 Axes>"
      ]
     },
     "metadata": {},
     "output_type": "display_data"
    }
   ],
   "source": [
    "G = nx.gnp_random_graph(15, 1/5, seed=42)\n",
    "nx.draw(G, with_labels=True, font_weight='bold')"
   ]
  },
  {
   "cell_type": "markdown",
   "metadata": {},
   "source": [
    "Calculamos sus parentezcos con BFS y DFS:"
   ]
  },
  {
   "cell_type": "code",
   "execution_count": 132,
   "metadata": {},
   "outputs": [],
   "source": [
    "bfs_par = bfs_parents(G, 0)\n",
    "dfs_par = dfs_parents(G, 0)"
   ]
  },
  {
   "cell_type": "markdown",
   "metadata": {},
   "source": [
    "Generamos los árboles:"
   ]
  },
  {
   "cell_type": "code",
   "execution_count": 133,
   "metadata": {},
   "outputs": [],
   "source": [
    "bfs_tree = tree_from_parents(G, bfs_par)\n",
    "dfs_tree = tree_from_parents(G, dfs_par)"
   ]
  },
  {
   "cell_type": "markdown",
   "metadata": {},
   "source": [
    "Y graficamos:"
   ]
  },
  {
   "cell_type": "code",
   "execution_count": 68,
   "metadata": {},
   "outputs": [
    {
     "data": {
      "image/png": "[encoded data removed]",
      "text/plain": [
       "<Figure size 1400x600 with 2 Axes>"
      ]
     },
     "metadata": {},
     "output_type": "display_data"
    }
   ],
   "source": [
    "fig, (ax1, ax2) = plt.subplots(1, 2, figsize=(14, 6))\n",
    "nx.draw(bfs_tree, ax=ax1, with_labels=True, font_weight=\"bold\")\n",
    "nx.draw(dfs_tree, ax=ax2, with_labels=True, font_weight=\"bold\")"
   ]
  },
  {
   "cell_type": "markdown",
   "metadata": {},
   "source": [
    "# Ejercicios"
   ]
  },
  {
   "cell_type": "markdown",
   "metadata": {},
   "source": [
    "## Ejercicio 1\n",
    "\n",
    "Escribe un algoritmo `num_connected(G)` que, dada una gráfica `G`, regrese el número de componentes conexas que tiene."
   ]
  },
  {
   "cell_type": "markdown",
   "metadata": {},
   "source": [
    "*Aquí va la descripción y explicación de tu algoritmo*"
   ]
  },
  {
   "cell_type": "code",
   "execution_count": 46,
   "metadata": {},
   "outputs": [],
   "source": [
    "# Aquí va tu código"
   ]
  },
  {
   "cell_type": "markdown",
   "metadata": {},
   "source": [
    "## Ejercicio 2\n",
    "\n",
    "Dada una matriz de 0s y 1s, donde los 0s representan agua y los 1s tierra, escribe un algoritmo de NetworkX que cuente el número de *islas* que hay. Una isla se define como un conjunto de celdas de tierra conectadas por alguno de sus cuatro lados. Deberás escribir una función para convertir la matriz a una gráfica que la represente adecuadamente.\n",
    "\n",
    "Por ejemplo, consideremos la siguiente matriz:"
   ]
  },
  {
   "cell_type": "code",
   "execution_count": 58,
   "metadata": {},
   "outputs": [
    {
     "data": {
      "text/plain": [
       "<matplotlib.image.AxesImage at 0x18eee779e20>"
      ]
     },
     "execution_count": 58,
     "metadata": {},
     "output_type": "execute_result"
    },
    {
     "data": {
      "image/png": "[encoded data removed]",
      "text/plain": [
       "<Figure size 640x480 with 1 Axes>"
      ]
     },
     "metadata": {},
     "output_type": "display_data"
    }
   ],
   "source": [
    "M = np.zeros((10, 10))\n",
    "M[0, 0] = M[1, 0] = M[2, 0] = M[3, 0] = M[3, 1] = M[4, 1] = 1\n",
    "M[5, 5] = 1\n",
    "M[7, 0] = M[8, 0] = M[9, 0] = 1\n",
    "M[6, 6] = 1\n",
    "\n",
    "plt.imshow(M)"
   ]
  },
  {
   "cell_type": "markdown",
   "metadata": {},
   "source": [
    "Tu función debe de regresar **4** islas (nota que las dos islas de la derecha están separadas, ya que solo se tocan diagonalmente)."
   ]
  },
  {
   "cell_type": "markdown",
   "metadata": {},
   "source": [
    "*Aquí va la descripción y explicación de tu algoritmo*"
   ]
  },
  {
   "cell_type": "code",
   "execution_count": 59,
   "metadata": {},
   "outputs": [],
   "source": [
    "# Aquí va tu función"
   ]
  }
 ],
 "metadata": {
  "colab": {
   "collapsed_sections": [],
   "include_colab_link": true,
   "name": "Primeros algoritmos en gráficas.ipynb",
   "provenance": []
  },
  "kernelspec": {
   "display_name": "Python 3 (ipykernel)",
   "language": "python",
   "name": "python3"
  },
  "language_info": {
   "codemirror_mode": {
    "name": "ipython",
    "version": 3
   },
   "file_extension": ".py",
   "mimetype": "text/x-python",
   "name": "python",
   "nbconvert_exporter": "python",
   "pygments_lexer": "ipython3",
   "version": "3.9.12"
  }
 },
 "nbformat": 4,
 "nbformat_minor": 4
}
